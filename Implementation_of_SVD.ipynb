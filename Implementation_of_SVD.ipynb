{
 "cells": [
  {
   "cell_type": "code",
   "execution_count": 2,
   "id": "7a18196b",
   "metadata": {},
   "outputs": [
    {
     "name": "stdout",
     "output_type": "stream",
     "text": [
      "Original data:\n",
      "[[1 2 3]\n",
      " [4 5 6]\n",
      " [7 8 9]]\n",
      "Transformed data:\n",
      "[[1. 2. 3.]\n",
      " [4. 5. 6.]\n",
      " [7. 8. 9.]]\n"
     ]
    }
   ],
   "source": [
    "import numpy as np\n",
    "\n",
    "def svd(matrix):\n",
    "  # Step 1: Calculate the covariance matrix\n",
    "  covariance_matrix = np.dot(matrix.T, matrix)\n",
    "\n",
    "  # Step 2: Find the eigenvalues and eigenvectors of the covariance matrix\n",
    "  eigenvalues, eigenvectors = np.linalg.eig(covariance_matrix)\n",
    "\n",
    "  # Step 3: Sort the eigenvalues and eigenvectors in descending order of eigenvalue magnitude\n",
    "  sorted_indices = np.argsort(eigenvalues)[::-1]\n",
    "  eigenvalues = eigenvalues[sorted_indices]\n",
    "  eigenvectors = eigenvectors[:, sorted_indices]\n",
    "\n",
    "  # Step 4: Calculate the singular values (sqrt of eigenvalues)\n",
    "  singular_values = np.sqrt(eigenvalues)\n",
    "\n",
    "  # Step 5: Create the diagonal matrix of singular values\n",
    "  sigma = np.diag(singular_values)\n",
    "\n",
    "  # Step 6: Construct the left singular matrix (normalized eigenvectors)\n",
    "  u = np.dot(matrix, eigenvectors) / singular_values\n",
    "\n",
    "  # Step 7: Calculate the conjugate transpose of the right singular matrix\n",
    "  vh = eigenvectors.T\n",
    "\n",
    "  return u, sigma, vh\n",
    "\n",
    "# Example usage\n",
    "matrix = np.array([[1, 2, 3],\n",
    "                   [4, 5, 6],\n",
    "                   [7, 8, 9]])\n",
    "\n",
    "u, sigma, vh = svd(matrix)\n",
    "\n",
    "# Print the original data\n",
    "print(\"Original data:\")\n",
    "print(matrix)\n",
    "\n",
    "# Print the transformed data\n",
    "transformed_data = np.dot(u, np.dot(sigma, vh))\n",
    "print(\"Transformed data:\")\n",
    "print(transformed_data)"
   ]
  },
  {
   "cell_type": "code",
   "execution_count": null,
   "id": "f5b2aeee",
   "metadata": {},
   "outputs": [],
   "source": []
  },
  {
   "cell_type": "code",
   "execution_count": null,
   "id": "ad4b7fc3",
   "metadata": {},
   "outputs": [],
   "source": []
  }
 ],
 "metadata": {
  "kernelspec": {
   "display_name": "Python 3 (ipykernel)",
   "language": "python",
   "name": "python3"
  },
  "language_info": {
   "codemirror_mode": {
    "name": "ipython",
    "version": 3
   },
   "file_extension": ".py",
   "mimetype": "text/x-python",
   "name": "python",
   "nbconvert_exporter": "python",
   "pygments_lexer": "ipython3",
   "version": "3.10.9"
  }
 },
 "nbformat": 4,
 "nbformat_minor": 5
}
